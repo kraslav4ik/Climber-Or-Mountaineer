{
  "metadata": {
    "kernelspec": {
      "display_name": "Python 3",
      "name": "python3"
    },
    "language_info": {
      "name": "python",
      "version": "3.10.12",
      "mimetype": "text/x-python",
      "codemirror_mode": {
        "name": "ipython",
        "version": 3
      },
      "pygments_lexer": "ipython3",
      "nbconvert_exporter": "python",
      "file_extension": ".py"
    },
    "kaggle": {
      "accelerator": "none",
      "dataSources": [],
      "isInternetEnabled": true,
      "language": "python",
      "sourceType": "notebook",
      "isGpuEnabled": false
    },
    "colab": {
      "provenance": [],
      "gpuType": "T4",
      "include_colab_link": true
    },
    "accelerator": "GPU"
  },
  "nbformat_minor": 0,
  "nbformat": 4,
  "cells": [
    {
      "cell_type": "markdown",
      "metadata": {
        "id": "view-in-github",
        "colab_type": "text"
      },
      "source": [
        "<a href=\"https://colab.research.google.com/github/kraslav4ik/Climber-Or-Mountaineer/blob/master/myaistart.ipynb\" target=\"_parent\"><img src=\"https://colab.research.google.com/assets/colab-badge.svg\" alt=\"Open In Colab\"/></a>"
      ]
    },
    {
      "cell_type": "markdown",
      "source": [
        "# **Climbing vs mountaineering**"
      ],
      "metadata": {
        "id": "iwPuW7yFwETU"
      }
    },
    {
      "cell_type": "markdown",
      "source": [
        "Install libraries:"
      ],
      "metadata": {
        "id": "3YAcqzXSwYRk"
      }
    },
    {
      "cell_type": "code",
      "source": [
        "!pip install -Uqq fastai duckduckgo_search"
      ],
      "metadata": {
        "_uuid": "e2a336a3-20c8-48b0-a77d-81d97fe78e58",
        "_cell_guid": "0ee5b36d-df1d-4832-906b-d6bcf2c5996a",
        "execution": {
          "iopub.status.busy": "2023-11-24T09:10:56.066472Z",
          "iopub.execute_input": "2023-11-24T09:10:56.066891Z",
          "iopub.status.idle": "2023-11-24T09:11:11.209151Z",
          "shell.execute_reply.started": "2023-11-24T09:10:56.066855Z",
          "shell.execute_reply": "2023-11-24T09:11:11.207479Z"
        },
        "jupyter": {
          "outputs_hidden": false
        },
        "trusted": true,
        "id": "T7Rai2rsgVd6"
      },
      "execution_count": 25,
      "outputs": []
    },
    {
      "cell_type": "markdown",
      "source": [
        "Clean all the data"
      ],
      "metadata": {
        "id": "GYiXJS7EwcdY"
      }
    },
    {
      "cell_type": "code",
      "source": [
        "![ -e climber ] && rm -r climber\n",
        "![ -e moutaineer ] && rm -r moutaineer"
      ],
      "metadata": {
        "id": "bZl-n8tisvt8"
      },
      "execution_count": 26,
      "outputs": []
    },
    {
      "cell_type": "markdown",
      "source": [
        "Imports:"
      ],
      "metadata": {
        "id": "FH_190dswv6I"
      }
    },
    {
      "cell_type": "code",
      "source": [
        "from duckduckgo_search import DDGS\n",
        "from IPython.display import display\n",
        "from fastcore.all import *\n",
        "from fastdownload import download_url\n",
        "from fastai.vision.all import *\n",
        "from time import sleep\n",
        "import os"
      ],
      "metadata": {
        "_uuid": "07d4f256-f7cb-4245-88ee-eaddb877d7f7",
        "_cell_guid": "c5e738f5-26da-41c9-9ff7-c91b30e9b349",
        "execution": {
          "iopub.status.busy": "2023-11-24T09:11:11.213720Z",
          "iopub.execute_input": "2023-11-24T09:11:11.214222Z",
          "iopub.status.idle": "2023-11-24T09:11:12.280890Z",
          "shell.execute_reply.started": "2023-11-24T09:11:11.214173Z",
          "shell.execute_reply": "2023-11-24T09:11:12.279632Z"
        },
        "jupyter": {
          "outputs_hidden": false
        },
        "trusted": true,
        "id": "x-P9tcB0gVd8"
      },
      "execution_count": 27,
      "outputs": []
    },
    {
      "cell_type": "markdown",
      "source": [
        "Function for searching the images"
      ],
      "metadata": {
        "id": "PSSXUjFDwyXg"
      }
    },
    {
      "cell_type": "code",
      "source": [
        "def search_images(term, max_items):\n",
        "  with DDGS() as ddgs:\n",
        "    return [obj[\"image\"] for obj in ddgs.images(keywords=term, max_results=max_items)]"
      ],
      "metadata": {
        "id": "LWrUAalHwtVl"
      },
      "execution_count": 28,
      "outputs": []
    },
    {
      "cell_type": "markdown",
      "source": [
        "Search for the images in the web to train the model and download them"
      ],
      "metadata": {
        "id": "_M27E1_fxBvC"
      }
    },
    {
      "cell_type": "code",
      "source": [
        "climbing_pictures = search_images(\"climber on the rock\", 150)\n",
        "sleep(5)\n",
        "mountainering_pictures = search_images(\"mountaineering\", 150)\n",
        "\n",
        "download_images(\"climber\", urls=climbing_pictures)\n",
        "download_images(\"mountaineer\", urls=mountainering_pictures)"
      ],
      "metadata": {
        "_uuid": "2bd58fd9-7d1e-42b5-ac8d-ebc6e1355bcb",
        "_cell_guid": "8b852641-a6db-4fab-a8d4-0dd844d93777",
        "execution": {
          "iopub.status.busy": "2023-11-24T09:17:35.445516Z",
          "iopub.execute_input": "2023-11-24T09:17:35.445929Z",
          "iopub.status.idle": "2023-11-24T09:17:36.488825Z",
          "shell.execute_reply.started": "2023-11-24T09:17:35.445896Z",
          "shell.execute_reply": "2023-11-24T09:17:36.487311Z"
        },
        "jupyter": {
          "outputs_hidden": false
        },
        "trusted": true,
        "id": "frhxHV1hgVd8"
      },
      "execution_count": 29,
      "outputs": []
    },
    {
      "cell_type": "markdown",
      "source": [
        "Remove images which cannot be open"
      ],
      "metadata": {
        "id": "UJ6L7mtgxKc-"
      }
    },
    {
      "cell_type": "code",
      "source": [
        "path = Path()\n",
        "failed = verify_images(get_image_files(path))\n",
        "failed.map(Path.unlink)"
      ],
      "metadata": {
        "_uuid": "83f6dc75-85a2-41e6-9ae6-8072c86d79e7",
        "_cell_guid": "09f7cfc5-cf2b-4be0-b2bc-8fe0f907437a",
        "jupyter": {
          "outputs_hidden": false
        },
        "trusted": true,
        "id": "4FxzjuyLgVd9",
        "colab": {
          "base_uri": "https://localhost:8080/"
        },
        "outputId": "866fc54c-b117-4061-f217-91ba6b63e440"
      },
      "execution_count": 30,
      "outputs": [
        {
          "output_type": "execute_result",
          "data": {
            "text/plain": [
              "(#5) [None,None,None,None,None]"
            ]
          },
          "metadata": {},
          "execution_count": 30
        }
      ]
    },
    {
      "cell_type": "markdown",
      "source": [
        "Create datablocks (preprocessing images, name the labels, split data into training and validation sets)"
      ],
      "metadata": {
        "id": "7GYhvtC-xhg9"
      }
    },
    {
      "cell_type": "code",
      "source": [
        "dls = DataBlock(\n",
        "    blocks=(ImageBlock, CategoryBlock),\n",
        "    get_items=get_image_files,\n",
        "    splitter=RandomSplitter(valid_pct=0.2, seed=42),\n",
        "    get_y=parent_label,\n",
        "    # get_y=lambda fname: \"climber\" if fname.name in os.listdir(Path()/\"folder_with_climbers\") else \"mountaineer\",\n",
        "    item_tfms=[Resize(192, method='squish')]\n",
        ").dataloaders(path, bs=32)"
      ],
      "metadata": {
        "id": "iQHd3SGndeSK"
      },
      "execution_count": 31,
      "outputs": []
    },
    {
      "cell_type": "markdown",
      "source": [
        "Train the model (3 epochs with pre-trained resnet18)"
      ],
      "metadata": {
        "id": "TgvBEB3dxyfS"
      }
    },
    {
      "cell_type": "code",
      "source": [
        "learn = vision_learner(dls, resnet18, metrics=error_rate)\n",
        "learn.fine_tune(3)"
      ],
      "metadata": {
        "id": "7O0divsMeSLN"
      },
      "execution_count": null,
      "outputs": []
    },
    {
      "cell_type": "markdown",
      "source": [
        "Predict"
      ],
      "metadata": {
        "id": "5PlZtrlpyn7O"
      }
    },
    {
      "cell_type": "code",
      "source": [
        "![ -e test ] && rm -r test\n",
        "\n",
        "os.mkdir(\"test\")\n",
        "\n",
        "size_before = 0\n",
        "size_after = size_before\n",
        "print(\"Put your image into the 'test' folder. Once image is uploaded, model will make a prediction\")\n",
        "\n",
        "while True:\n",
        "  sleep(5)\n",
        "  size_after = len(os.listdir(path/\"test\"))\n",
        "  if size_after != size_before:\n",
        "    dest = path/\"test\"/(os.listdir(path/\"test\")[0])\n",
        "    is_climber,_,probs = learn.predict(PILImage.create(dest))\n",
        "    display(Image.open(dest).to_thumb(256,256))\n",
        "    print(f\"This is a: {is_climber}.\")\n",
        "    print(f\"Probability it's a climber: {probs[0]:.4f}\")\n",
        "    os.remove(dest)\n",
        "    print(\"Now try to upload another image\")\n"
      ],
      "metadata": {
        "id": "WOINrjVjep05"
      },
      "execution_count": null,
      "outputs": []
    }
  ]
}